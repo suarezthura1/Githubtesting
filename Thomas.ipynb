{
  "nbformat": 4,
  "nbformat_minor": 0,
  "metadata": {
    "colab": {
      "name": "Thomas.ipynb",
      "provenance": [],
      "collapsed_sections": [],
      "authorship_tag": "ABX9TyMI32PpOdFmvf9iV5frYTNf",
      "include_colab_link": true
    },
    "kernelspec": {
      "name": "python3",
      "display_name": "Python 3"
    },
    "language_info": {
      "name": "python"
    }
  },
  "cells": [
    {
      "cell_type": "markdown",
      "metadata": {
        "id": "view-in-github",
        "colab_type": "text"
      },
      "source": [
        "<a href=\"https://colab.research.google.com/github/suarezthura1/Githubtesting/blob/main/Thomas.ipynb\" target=\"_parent\"><img src=\"https://colab.research.google.com/assets/colab-badge.svg\" alt=\"Open In Colab\"/></a>"
      ]
    },
    {
      "cell_type": "markdown",
      "metadata": {
        "id": "dPbJf-a9FcOf"
      },
      "source": [
        "Importing Libraries"
      ]
    },
    {
      "cell_type": "code",
      "metadata": {
        "id": "8aTAm-7-FiA4"
      },
      "source": [
        "import pandas as pd\n",
        "import numpy as np"
      ],
      "execution_count": 108,
      "outputs": []
    },
    {
      "cell_type": "markdown",
      "metadata": {
        "id": "TAjjRZSPFnr-"
      },
      "source": [
        "Importing Dataset"
      ]
    },
    {
      "cell_type": "code",
      "metadata": {
        "id": "fTleliv2Fq_v"
      },
      "source": [
        "dataset = pd.read_csv('/content/Coffee_Dataset.csv')\n",
        "x = dataset.iloc[:,[0,2]].values\n",
        "y = dataset.iloc[:,[3]].values\n"
      ],
      "execution_count": 109,
      "outputs": []
    },
    {
      "cell_type": "code",
      "metadata": {
        "colab": {
          "base_uri": "https://localhost:8080/"
        },
        "id": "xNsWeRxvMMq3",
        "outputId": "84ce2001-701c-4cc6-dde2-28d7a700ab0a"
      },
      "source": [
        "print(x)"
      ],
      "execution_count": 110,
      "outputs": [
        {
          "output_type": "stream",
          "text": [
            "[[1 'AA']\n",
            " [2 'AB']\n",
            " [3 'C']\n",
            " [4 'AA']\n",
            " [5 'AB']\n",
            " [6 'C']\n",
            " [7 'AA']\n",
            " [8 'AB']\n",
            " [9 'C']\n",
            " [10 'AA']\n",
            " [11 'AB']\n",
            " [12 'C']\n",
            " [13 'AA']\n",
            " [14 'AB']\n",
            " [15 'C']\n",
            " [16 'AA']\n",
            " [17 'AB']\n",
            " [18 'C']\n",
            " [19 'AA']\n",
            " [20 'AB']\n",
            " [21 'C']\n",
            " [22 'AA']\n",
            " [23 'AB']\n",
            " [24 'C']\n",
            " [25 'AA']\n",
            " [26 'AB']\n",
            " [27 'C']\n",
            " [28 'AA']\n",
            " [29 'AB']\n",
            " [30 'C']\n",
            " [31 'AA']\n",
            " [32 'AB']\n",
            " [33 'C']\n",
            " [34 'AA']\n",
            " [35 'AB']\n",
            " [36 'C']\n",
            " [37 'AA']\n",
            " [38 'AB']\n",
            " [39 'C']\n",
            " [40 'AA']\n",
            " [41 'AB']\n",
            " [42 'C']\n",
            " [43 'AA']\n",
            " [44 'AB']\n",
            " [45 'C']\n",
            " [46 'AA']\n",
            " [47 'AB']\n",
            " [48 'C']\n",
            " [49 'AA']\n",
            " [50 'AB']\n",
            " [51 'C']\n",
            " [52 'AA']\n",
            " [53 'AB']\n",
            " [54 'C']\n",
            " [55 'AA']\n",
            " [56 'AB']\n",
            " [57 'C']\n",
            " [58 'AA']\n",
            " [59 'AB']\n",
            " [60 'C']\n",
            " [61 'AA']\n",
            " [62 'AB']\n",
            " [63 'C']\n",
            " [64 'AA']\n",
            " [65 'AB']\n",
            " [66 'C']\n",
            " [67 'AA']\n",
            " [68 'AB']\n",
            " [69 'C']\n",
            " [70 'AA']\n",
            " [71 'AB']\n",
            " [72 'C']\n",
            " [73 'AA']\n",
            " [74 'AB']\n",
            " [75 'C']\n",
            " [76 'AA']\n",
            " [77 'AB']\n",
            " [78 'C']\n",
            " [79 'AA']\n",
            " [80 'AB']\n",
            " [81 'C']\n",
            " [82 'AA']\n",
            " [83 'AB']\n",
            " [84 'C']\n",
            " [85 'AA']\n",
            " [86 'AB']\n",
            " [87 'C']\n",
            " [88 'AA']\n",
            " [89 'AB']\n",
            " [90 'C']\n",
            " [91 'AA']\n",
            " [92 'AB']\n",
            " [93 'C']\n",
            " [94 'AA']\n",
            " [95 'AB']\n",
            " [96 'C']\n",
            " [97 'AA']\n",
            " [98 'AB']\n",
            " [99 'C']\n",
            " [100 'AA']\n",
            " [101 'AB']\n",
            " [102 'C']\n",
            " [103 'AA']\n",
            " [104 'AB']\n",
            " [105 'C']\n",
            " [106 'AA']\n",
            " [107 'AB']\n",
            " [108 'C']\n",
            " [109 'AA']\n",
            " [110 'AB']\n",
            " [111 'C']\n",
            " [112 'AA']\n",
            " [113 'AB']\n",
            " [114 'C']\n",
            " [115 'AA']\n",
            " [116 'AB']\n",
            " [117 'C']\n",
            " [118 'AA']\n",
            " [119 'AB']\n",
            " [120 'C']\n",
            " [121 'AA']\n",
            " [122 'AB']\n",
            " [123 'C']\n",
            " [124 'AA']\n",
            " [125 'AB']\n",
            " [126 'C']\n",
            " [127 'AA']\n",
            " [128 'AB']\n",
            " [129 'C']\n",
            " [130 'AA']\n",
            " [131 'AB']\n",
            " [132 'C']\n",
            " [133 'AA']\n",
            " [134 'AB']\n",
            " [135 'C']\n",
            " [136 'AA']\n",
            " [137 'AB']\n",
            " [138 'C']\n",
            " [139 'AA']\n",
            " [140 'AB']\n",
            " [141 'C']\n",
            " [142 'AA']\n",
            " [143 'AB']\n",
            " [144 'C']\n",
            " [145 'AA']\n",
            " [146 'AB']\n",
            " [147 'C']\n",
            " [148 'AA']\n",
            " [149 'AB']\n",
            " [150 'C']\n",
            " [151 'AA']\n",
            " [152 'AB']\n",
            " [153 'C']\n",
            " [154 'AA']\n",
            " [155 'AB']\n",
            " [156 'C']\n",
            " [157 'AA']\n",
            " [158 'AB']\n",
            " [159 'C']\n",
            " [160 'AA']\n",
            " [161 'AB']\n",
            " [162 'C']\n",
            " [163 'AA']\n",
            " [164 'AB']\n",
            " [165 'C']\n",
            " [166 'AA']\n",
            " [167 'AB']\n",
            " [168 'C']\n",
            " [169 'AA']\n",
            " [170 'AB']\n",
            " [171 'C']\n",
            " [172 'AA']\n",
            " [173 'AB']\n",
            " [174 'C']\n",
            " [175 'AA']\n",
            " [176 'AB']\n",
            " [177 'C']\n",
            " [178 'AA']\n",
            " [179 'AB']\n",
            " [180 'C']\n",
            " [181 'AA']\n",
            " [182 'AB']\n",
            " [183 'C']\n",
            " [184 'AA']\n",
            " [185 'AB']\n",
            " [186 'C']\n",
            " [187 'AA']\n",
            " [188 'AB']\n",
            " [189 'C']\n",
            " [190 'AA']\n",
            " [191 'AB']\n",
            " [192 'C']\n",
            " [193 'AA']\n",
            " [194 'AB']\n",
            " [195 'C']\n",
            " [196 'AA']\n",
            " [197 'AB']\n",
            " [198 'C']\n",
            " [199 'AA']\n",
            " [200 'AB']\n",
            " [201 'C']\n",
            " [202 'AA']\n",
            " [203 'AB']\n",
            " [204 'C']\n",
            " [205 'AA']\n",
            " [206 'AB']\n",
            " [207 'C']\n",
            " [208 'AA']\n",
            " [209 'AB']\n",
            " [210 'C']\n",
            " [211 'AA']\n",
            " [212 'AB']\n",
            " [213 'C']\n",
            " [214 'AA']\n",
            " [215 'AB']\n",
            " [216 'C']\n",
            " [217 'AA']\n",
            " [218 'AB']\n",
            " [219 'C']\n",
            " [220 'AA']\n",
            " [221 'AB']\n",
            " [222 'C']\n",
            " [223 'AA']\n",
            " [224 'AB']\n",
            " [225 'C']\n",
            " [226 'AA']\n",
            " [227 'AB']\n",
            " [228 'C']\n",
            " [229 'AA']\n",
            " [230 'AB']\n",
            " [231 'C']\n",
            " [232 'AA']\n",
            " [233 'AB']\n",
            " [234 'C']\n",
            " [235 'AA']\n",
            " [236 'AB']\n",
            " [237 'C']\n",
            " [238 'AA']\n",
            " [239 'AB']\n",
            " [240 'C']\n",
            " [241 'AA']\n",
            " [242 'AB']\n",
            " [243 'C']\n",
            " [244 'AA']\n",
            " [245 'AB']\n",
            " [246 'C']\n",
            " [247 'AA']\n",
            " [248 'AB']\n",
            " [249 'C']\n",
            " [250 'AA']\n",
            " [251 'AB']\n",
            " [252 'C']\n",
            " [253 'AA']\n",
            " [254 'AB']\n",
            " [255 'C']\n",
            " [266 'AA']\n",
            " [257 'AB']\n",
            " [258 'C']\n",
            " [259 'AA']\n",
            " [260 'AB']\n",
            " [261 'C']\n",
            " [262 'AA']\n",
            " [263 'AB']\n",
            " [264 'C']\n",
            " [265 'AA']\n",
            " [266 'AB']\n",
            " [267 'C']\n",
            " [268 'AA']\n",
            " [269 'AB']\n",
            " [270 'C']\n",
            " [271 'AA']\n",
            " [272 'AB']\n",
            " [273 'C']\n",
            " [274 'AA']\n",
            " [275 'AB']\n",
            " [276 'C']\n",
            " [277 'AA']\n",
            " [278 'AB']\n",
            " [279 'C']\n",
            " [280 'AA']\n",
            " [281 'AB']\n",
            " [282 'C']\n",
            " [283 'AA']\n",
            " [284 'AB']\n",
            " [285 'C']\n",
            " [286 'AA']\n",
            " [287 'AB']\n",
            " [288 'C']\n",
            " [289 'AA']\n",
            " [290 'AB']\n",
            " [291 'C']\n",
            " [292 'AA']\n",
            " [293 'AB']\n",
            " [294 'C']\n",
            " [295 'AA']\n",
            " [296 'AB']\n",
            " [297 'C']\n",
            " [298 'AA']\n",
            " [299 'AB']\n",
            " [300 'C']\n",
            " [301 'AA']\n",
            " [302 'AB']\n",
            " [303 'C']]\n"
          ],
          "name": "stdout"
        }
      ]
    },
    {
      "cell_type": "code",
      "metadata": {
        "colab": {
          "base_uri": "https://localhost:8080/"
        },
        "id": "EeTOZ0ecMVnF",
        "outputId": "1a3d5d0b-fc5c-4087-d0e0-a39332cedf8b"
      },
      "source": [
        "print(y)"
      ],
      "execution_count": 111,
      "outputs": [
        {
          "output_type": "stream",
          "text": [
            "[[236.98]\n",
            " [211.06]\n",
            " [168.1 ]\n",
            " [267.01]\n",
            " [231.54]\n",
            " [163.36]\n",
            " [300.68]\n",
            " [258.07]\n",
            " [173.72]\n",
            " [297.77]\n",
            " [239.33]\n",
            " [174.23]\n",
            " [297.31]\n",
            " [245.34]\n",
            " [187.46]\n",
            " [265.87]\n",
            " [235.08]\n",
            " [188.68]\n",
            " [221.91]\n",
            " [207.64]\n",
            " [169.92]\n",
            " [217.81]\n",
            " [199.66]\n",
            " [165.07]\n",
            " [222.2 ]\n",
            " [191.35]\n",
            " [171.74]\n",
            " [206.8 ]\n",
            " [220.83]\n",
            " [178.87]\n",
            " [253.72]\n",
            " [233.58]\n",
            " [205.41]\n",
            " [255.69]\n",
            " [239.29]\n",
            " [207.07]\n",
            " [340.38]\n",
            " [263.44]\n",
            " [188.55]\n",
            " [371.49]\n",
            " [239.48]\n",
            " [184.85]\n",
            " [360.45]\n",
            " [233.76]\n",
            " [179.57]\n",
            " [365.23]\n",
            " [266.09]\n",
            " [191.25]\n",
            " [384.3 ]\n",
            " [296.22]\n",
            " [219.51]\n",
            " [330.06]\n",
            " [252.92]\n",
            " [186.72]\n",
            " [275.27]\n",
            " [202.54]\n",
            " [142.69]\n",
            " [234.95]\n",
            " [172.52]\n",
            " [121.03]\n",
            " [308.66]\n",
            " [213.82]\n",
            " [159.48]\n",
            " [317.01]\n",
            " [206.81]\n",
            " [145.51]\n",
            " [309.1 ]\n",
            " [195.03]\n",
            " [123.65]\n",
            " [291.27]\n",
            " [234.8 ]\n",
            " [206.07]\n",
            " [335.9 ]\n",
            " [262.7 ]\n",
            " [208.61]\n",
            " [269.05]\n",
            " [222.1 ]\n",
            " [187.64]\n",
            " [238.38]\n",
            " [207.16]\n",
            " [178.59]\n",
            " [229.27]\n",
            " [204.57]\n",
            " [167.06]\n",
            " [220.2 ]\n",
            " [198.82]\n",
            " [171.3 ]\n",
            " [229.18]\n",
            " [210.5 ]\n",
            " [178.17]\n",
            " [228.21]\n",
            " [214.25]\n",
            " [171.78]\n",
            " [310.71]\n",
            " [254.42]\n",
            " [232.12]\n",
            " [300.48]\n",
            " [251.45]\n",
            " [230.38]\n",
            " [295.75]\n",
            " [242.69]\n",
            " [224.97]\n",
            " [349.79]\n",
            " [298.78]\n",
            " [240.76]\n",
            " [382.17]\n",
            " [315.9 ]\n",
            " [254.87]\n",
            " [336.55]\n",
            " [276.39]\n",
            " [227.49]\n",
            " [272.64]\n",
            " [211.9 ]\n",
            " [157.29]\n",
            " [286.3 ]\n",
            " [222.74]\n",
            " [175.57]\n",
            " [296.99]\n",
            " [268.22]\n",
            " [223.89]\n",
            " [331.75]\n",
            " [263.02]\n",
            " [225.94]\n",
            " [279.11]\n",
            " [251.54]\n",
            " [216.86]\n",
            " [292.5 ]\n",
            " [266.95]\n",
            " [236.97]\n",
            " [289.41]\n",
            " [267.78]\n",
            " [241.44]\n",
            " [297.8 ]\n",
            " [239.3 ]\n",
            " [174.2 ]\n",
            " [297.3 ]\n",
            " [245.3 ]\n",
            " [187.5 ]\n",
            " [265.9 ]\n",
            " [235.1 ]\n",
            " [188.7 ]\n",
            " [221.9 ]\n",
            " [207.6 ]\n",
            " [169.9 ]\n",
            " [217.8 ]\n",
            " [199.7 ]\n",
            " [165.1 ]\n",
            " [220.2 ]\n",
            " [191.4 ]\n",
            " [171.7 ]\n",
            " [206.8 ]\n",
            " [220.8 ]\n",
            " [178.9 ]\n",
            " [253.7 ]\n",
            " [233.6 ]\n",
            " [205.4 ]\n",
            " [255.7 ]\n",
            " [239.3 ]\n",
            " [207.1 ]\n",
            " [255.  ]\n",
            " [170.9 ]\n",
            " [145.8 ]\n",
            " [352.8 ]\n",
            " [229.4 ]\n",
            " [187.  ]\n",
            " [364.7 ]\n",
            " [271.1 ]\n",
            " [234.1 ]\n",
            " [323.2 ]\n",
            " [259.1 ]\n",
            " [224.7 ]\n",
            " [314.4 ]\n",
            " [249.9 ]\n",
            " [217.6 ]\n",
            " [306.  ]\n",
            " [245.3 ]\n",
            " [212.6 ]\n",
            " [303.1 ]\n",
            " [246.  ]\n",
            " [223.  ]\n",
            " [304.4 ]\n",
            " [251.6 ]\n",
            " [231.1 ]\n",
            " [300.1 ]\n",
            " [239.1 ]\n",
            " [216.8 ]\n",
            " [310.7 ]\n",
            " [254.4 ]\n",
            " [232.1 ]\n",
            " [300.5 ]\n",
            " [251.5 ]\n",
            " [230.4 ]\n",
            " [295.8 ]\n",
            " [242.7 ]\n",
            " [225.5 ]\n",
            " [299.6 ]\n",
            " [194.4 ]\n",
            " [160.4 ]\n",
            " [285.4 ]\n",
            " [181.1 ]\n",
            " [149.8 ]\n",
            " [309.6 ]\n",
            " [185.8 ]\n",
            " [152.2 ]\n",
            " [289.4 ]\n",
            " [175.8 ]\n",
            " [142.8 ]\n",
            " [215.5 ]\n",
            " [161.5 ]\n",
            " [133.1 ]\n",
            " [191.9 ]\n",
            " [154.6 ]\n",
            " [124.6 ]\n",
            " [253.  ]\n",
            " [167.3 ]\n",
            " [133.5 ]\n",
            " [267.3 ]\n",
            " [174.5 ]\n",
            " [148.7 ]\n",
            " [268.5 ]\n",
            " [172.4 ]\n",
            " [140.7 ]\n",
            " [235.8 ]\n",
            " [154.1 ]\n",
            " [129.6 ]\n",
            " [258.3 ]\n",
            " [156.1 ]\n",
            " [126.5 ]\n",
            " [265.3 ]\n",
            " [160.3 ]\n",
            " [130.5 ]\n",
            " [236.98]\n",
            " [211.06]\n",
            " [168.1 ]\n",
            " [267.01]\n",
            " [231.54]\n",
            " [163.36]\n",
            " [300.68]\n",
            " [258.07]\n",
            " [173.72]\n",
            " [297.77]\n",
            " [239.33]\n",
            " [174.23]\n",
            " [297.31]\n",
            " [245.34]\n",
            " [187.46]\n",
            " [265.87]\n",
            " [235.08]\n",
            " [188.68]\n",
            " [221.91]\n",
            " [207.64]\n",
            " [169.92]\n",
            " [217.81]\n",
            " [199.66]\n",
            " [165.07]\n",
            " [222.2 ]\n",
            " [191.35]\n",
            " [171.74]\n",
            " [206.8 ]\n",
            " [220.83]\n",
            " [178.87]\n",
            " [253.72]\n",
            " [233.58]\n",
            " [205.41]\n",
            " [255.69]\n",
            " [239.29]\n",
            " [207.07]\n",
            " [265.9 ]\n",
            " [235.1 ]\n",
            " [188.7 ]\n",
            " [221.9 ]\n",
            " [207.6 ]\n",
            " [169.9 ]\n",
            " [217.8 ]\n",
            " [199.7 ]\n",
            " [165.1 ]\n",
            " [220.2 ]\n",
            " [191.4 ]\n",
            " [171.7 ]\n",
            " [206.8 ]\n",
            " [220.8 ]\n",
            " [178.9 ]\n",
            " [253.7 ]\n",
            " [233.6 ]\n",
            " [205.4 ]\n",
            " [255.7 ]\n",
            " [239.3 ]\n",
            " [207.1 ]\n",
            " [255.  ]\n",
            " [170.9 ]\n",
            " [145.8 ]\n",
            " [352.8 ]\n",
            " [229.4 ]\n",
            " [187.  ]\n",
            " [364.7 ]\n",
            " [271.1 ]\n",
            " [234.1 ]\n",
            " [323.2 ]\n",
            " [259.1 ]\n",
            " [224.7 ]\n",
            " [314.4 ]\n",
            " [249.9 ]\n",
            " [217.6 ]]\n"
          ],
          "name": "stdout"
        }
      ]
    },
    {
      "cell_type": "markdown",
      "metadata": {
        "id": "ew_wJcdoNv0j"
      },
      "source": [
        "Data Preprocessing"
      ]
    },
    {
      "cell_type": "code",
      "metadata": {
        "id": "OUvR7ABWkXdv"
      },
      "source": [
        "from sklearn.preprocessing import LabelEncoder\n",
        "le1 = LabelEncoder()\n",
        "x[:,1] = le1.fit_transform(x[:,1])"
      ],
      "execution_count": 112,
      "outputs": []
    },
    {
      "cell_type": "code",
      "metadata": {
        "id": "JFnzy4-8ZGmq"
      },
      "source": [
        "from sklearn.preprocessing import OneHotEncoder\n",
        "from sklearn.compose import ColumnTransformer\n",
        "ct = ColumnTransformer(transformers=[('encoder',OneHotEncoder(),[1])],remainder = 'passthrough')\n",
        "x = ct.fit_transform(x)"
      ],
      "execution_count": 113,
      "outputs": []
    },
    {
      "cell_type": "code",
      "metadata": {
        "colab": {
          "base_uri": "https://localhost:8080/"
        },
        "id": "oIoc1T_PO8Ah",
        "outputId": "c70f2a89-7b80-434e-846a-85910935dfba"
      },
      "source": [
        "print(x)"
      ],
      "execution_count": 114,
      "outputs": [
        {
          "output_type": "stream",
          "text": [
            "[[1.0 0.0 0.0 1]\n",
            " [0.0 1.0 0.0 2]\n",
            " [0.0 0.0 1.0 3]\n",
            " ...\n",
            " [1.0 0.0 0.0 301]\n",
            " [0.0 1.0 0.0 302]\n",
            " [0.0 0.0 1.0 303]]\n"
          ],
          "name": "stdout"
        }
      ]
    },
    {
      "cell_type": "markdown",
      "metadata": {
        "id": "PzASepQEnfXs"
      },
      "source": [
        "Feature scaling"
      ]
    },
    {
      "cell_type": "code",
      "metadata": {
        "id": "YtTbClkenl8C"
      },
      "source": [
        "from sklearn.preprocessing import StandardScaler\n",
        "sc = StandardScaler()\n",
        "x = sc.fit_transform(x)"
      ],
      "execution_count": 115,
      "outputs": []
    },
    {
      "cell_type": "code",
      "metadata": {
        "colab": {
          "base_uri": "https://localhost:8080/"
        },
        "id": "J5rSGucRubDM",
        "outputId": "d357cbfc-4269-49a7-ed0f-0c524100eb2f"
      },
      "source": [
        "print(x)"
      ],
      "execution_count": 116,
      "outputs": [
        {
          "output_type": "stream",
          "text": [
            "[[ 1.41421356 -0.70710678 -0.70710678 -1.72590998]\n",
            " [-0.70710678  1.41421356 -0.70710678 -1.71448261]\n",
            " [-0.70710678 -0.70710678  1.41421356 -1.70305524]\n",
            " ...\n",
            " [ 1.41421356 -0.70710678 -0.70710678  1.70230095]\n",
            " [-0.70710678  1.41421356 -0.70710678  1.71372832]\n",
            " [-0.70710678 -0.70710678  1.41421356  1.72515569]]\n"
          ],
          "name": "stdout"
        }
      ]
    },
    {
      "cell_type": "markdown",
      "metadata": {
        "id": "XR739C5YyCQo"
      },
      "source": [
        "Splitting Dataset into Training and Testing"
      ]
    },
    {
      "cell_type": "code",
      "metadata": {
        "id": "M_gH5mL1ylII"
      },
      "source": [
        "from sklearn.model_selection import train_test_split\n",
        "(x_train,x_test,y_train,y_test) = train_test_split(x,y,test_size=0.05,random_state=0)"
      ],
      "execution_count": 117,
      "outputs": []
    },
    {
      "cell_type": "markdown",
      "metadata": {
        "id": "obI458I70tQy"
      },
      "source": [
        "Training Model"
      ]
    },
    {
      "cell_type": "code",
      "metadata": {
        "colab": {
          "base_uri": "https://localhost:8080/"
        },
        "id": "Rn3WCJac06be",
        "outputId": "dfe833e1-9f49-4eac-9261-71f5fab328e8"
      },
      "source": [
        "from sklearn.ensemble import RandomForestRegressor\n",
        "regression = RandomForestRegressor(random_state=0)\n",
        "regression.fit(x_train,y_train)"
      ],
      "execution_count": 118,
      "outputs": [
        {
          "output_type": "stream",
          "text": [
            "/usr/local/lib/python3.7/dist-packages/ipykernel_launcher.py:3: DataConversionWarning: A column-vector y was passed when a 1d array was expected. Please change the shape of y to (n_samples,), for example using ravel().\n",
            "  This is separate from the ipykernel package so we can avoid doing imports until\n"
          ],
          "name": "stderr"
        },
        {
          "output_type": "execute_result",
          "data": {
            "text/plain": [
              "RandomForestRegressor(bootstrap=True, ccp_alpha=0.0, criterion='mse',\n",
              "                      max_depth=None, max_features='auto', max_leaf_nodes=None,\n",
              "                      max_samples=None, min_impurity_decrease=0.0,\n",
              "                      min_impurity_split=None, min_samples_leaf=1,\n",
              "                      min_samples_split=2, min_weight_fraction_leaf=0.0,\n",
              "                      n_estimators=100, n_jobs=None, oob_score=False,\n",
              "                      random_state=0, verbose=0, warm_start=False)"
            ]
          },
          "metadata": {
            "tags": []
          },
          "execution_count": 118
        }
      ]
    },
    {
      "cell_type": "code",
      "metadata": {
        "id": "jZJdz7Op5SBb"
      },
      "source": [
        "y_pred = regression.predict(x_test)"
      ],
      "execution_count": 119,
      "outputs": []
    },
    {
      "cell_type": "code",
      "metadata": {
        "colab": {
          "base_uri": "https://localhost:8080/"
        },
        "id": "LjyK8Iak6KKJ",
        "outputId": "05a185e9-8903-4517-978c-82c04e03edfd"
      },
      "source": [
        "print(y_pred)"
      ],
      "execution_count": 120,
      "outputs": [
        {
          "output_type": "stream",
          "text": [
            "[242.6627 181.685  240.9807 284.855  269.5437 183.5869 249.025  346.678\n",
            " 167.899  167.534  331.4719 271.8584 137.198  289.0457 228.626  307.237 ]\n"
          ],
          "name": "stdout"
        }
      ]
    },
    {
      "cell_type": "code",
      "metadata": {
        "colab": {
          "base_uri": "https://localhost:8080/"
        },
        "id": "k0r973d56etc",
        "outputId": "c713d225-1f28-40ce-e789-403807b35909"
      },
      "source": [
        "print(y_test)"
      ],
      "execution_count": 121,
      "outputs": [
        {
          "output_type": "stream",
          "text": [
            "[[258.3 ]\n",
            " [178.9 ]\n",
            " [265.3 ]\n",
            " [309.6 ]\n",
            " [252.92]\n",
            " [187.46]\n",
            " [245.3 ]\n",
            " [323.2 ]\n",
            " [154.1 ]\n",
            " [174.5 ]\n",
            " [272.64]\n",
            " [297.3 ]\n",
            " [148.7 ]\n",
            " [297.31]\n",
            " [265.87]\n",
            " [309.1 ]]\n"
          ],
          "name": "stdout"
        }
      ]
    },
    {
      "cell_type": "markdown",
      "metadata": {
        "id": "prOJ-thV55RP"
      },
      "source": [
        "Testing Result"
      ]
    },
    {
      "cell_type": "code",
      "metadata": {
        "id": "6pocho4G5_e5"
      },
      "source": [
        "mydata = np.concatenate((y_pred.reshape(len(y_pred),1),y_test.reshape(len(y_test),1)),1)"
      ],
      "execution_count": 122,
      "outputs": []
    },
    {
      "cell_type": "markdown",
      "metadata": {
        "id": "EgdsAYGz93Wc"
      },
      "source": [
        "Calculating Accuracy"
      ]
    },
    {
      "cell_type": "code",
      "metadata": {
        "colab": {
          "base_uri": "https://localhost:8080/"
        },
        "id": "_QeOG0Xd9oq_",
        "outputId": "2de1ffc0-4dcc-497c-8246-c3c868016bca"
      },
      "source": [
        "from sklearn.metrics import r2_score\n",
        "r2_score(y_test,y_pred)"
      ],
      "execution_count": 123,
      "outputs": [
        {
          "output_type": "execute_result",
          "data": {
            "text/plain": [
              "0.8409610825312426"
            ]
          },
          "metadata": {
            "tags": []
          },
          "execution_count": 123
        }
      ]
    },
    {
      "cell_type": "markdown",
      "metadata": {
        "id": "JBEYyJdB-3SI"
      },
      "source": [
        "Making Dataframe"
      ]
    },
    {
      "cell_type": "code",
      "metadata": {
        "id": "zZG9Xr0m-78k"
      },
      "source": [
        "Dataframe = (pd.DataFrame(mydata,columns=['predicted value','Real value']))"
      ],
      "execution_count": 124,
      "outputs": []
    },
    {
      "cell_type": "code",
      "metadata": {
        "colab": {
          "base_uri": "https://localhost:8080/"
        },
        "id": "zpTQTGapDT00",
        "outputId": "dc866d68-97bc-4d2f-eea1-c1508ecd2cb3"
      },
      "source": [
        "print(Dataframe)"
      ],
      "execution_count": 126,
      "outputs": [
        {
          "output_type": "stream",
          "text": [
            "    predicted value  Real value\n",
            "0          242.6627      258.30\n",
            "1          181.6850      178.90\n",
            "2          240.9807      265.30\n",
            "3          284.8550      309.60\n",
            "4          269.5437      252.92\n",
            "5          183.5869      187.46\n",
            "6          249.0250      245.30\n",
            "7          346.6780      323.20\n",
            "8          167.8990      154.10\n",
            "9          167.5340      174.50\n",
            "10         331.4719      272.64\n",
            "11         271.8584      297.30\n",
            "12         137.1980      148.70\n",
            "13         289.0457      297.31\n",
            "14         228.6260      265.87\n",
            "15         307.2370      309.10\n"
          ],
          "name": "stdout"
        }
      ]
    },
    {
      "cell_type": "markdown",
      "metadata": {
        "id": "Ee7XjlOGjd1X"
      },
      "source": [
        "Model Visualization"
      ]
    },
    {
      "cell_type": "code",
      "metadata": {
        "id": "OAWEM-wejjvM"
      },
      "source": [
        "import matplotlib.pyplot as plt\n",
        "%matplotlib inline"
      ],
      "execution_count": 127,
      "outputs": []
    },
    {
      "cell_type": "code",
      "metadata": {
        "id": "_WWakvHpnwD6"
      },
      "source": [
        "from sklearn import tree\n",
        "clf = tree.DecisionTreeClassifier(random_state=0)\n",
        "dataset = ('/content/Coffee_Dataset.csv')"
      ],
      "execution_count": 128,
      "outputs": []
    },
    {
      "cell_type": "code",
      "metadata": {
        "id": "dFVZtBO29Vzq"
      },
      "source": [
        "import seaborn as sns"
      ],
      "execution_count": 129,
      "outputs": []
    },
    {
      "cell_type": "code",
      "metadata": {
        "colab": {
          "base_uri": "https://localhost:8080/"
        },
        "id": "20UbtKU9JJRl",
        "outputId": "e402f03e-a68c-482b-eb06-1293e7bb34c4"
      },
      "source": [
        "len(x) == len(y)"
      ],
      "execution_count": 130,
      "outputs": [
        {
          "output_type": "execute_result",
          "data": {
            "text/plain": [
              "True"
            ]
          },
          "metadata": {
            "tags": []
          },
          "execution_count": 130
        }
      ]
    },
    {
      "cell_type": "code",
      "metadata": {
        "colab": {
          "base_uri": "https://localhost:8080/"
        },
        "id": "9S-3AWmQLRCl",
        "outputId": "4327cf74-1e8a-4a50-f48f-91ae812f6610"
      },
      "source": [
        "rfc = RandomForestRegressor\n",
        "rfc.feature_importances_"
      ],
      "execution_count": 131,
      "outputs": [
        {
          "output_type": "execute_result",
          "data": {
            "text/plain": [
              "<property at 0x7f7de07e7110>"
            ]
          },
          "metadata": {
            "tags": []
          },
          "execution_count": 131
        }
      ]
    }
  ]
}