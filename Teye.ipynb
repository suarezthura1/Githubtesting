{
  "nbformat": 4,
  "nbformat_minor": 0,
  "metadata": {
    "colab": {
      "name": "Teye.ipynb",
      "provenance": [],
      "collapsed_sections": [],
      "authorship_tag": "ABX9TyObobEn1Nt/zdtER4y7Eok0",
      "include_colab_link": true
    },
    "kernelspec": {
      "name": "python3",
      "display_name": "Python 3"
    },
    "language_info": {
      "name": "python"
    }
  },
  "cells": [
    {
      "cell_type": "markdown",
      "metadata": {
        "id": "view-in-github",
        "colab_type": "text"
      },
      "source": [
        "<a href=\"https://colab.research.google.com/github/suarezthura1/Githubtesting/blob/main/Teye.ipynb\" target=\"_parent\"><img src=\"https://colab.research.google.com/assets/colab-badge.svg\" alt=\"Open In Colab\"/></a>"
      ]
    },
    {
      "cell_type": "markdown",
      "metadata": {
        "id": "u-aAiNq1aRBf"
      },
      "source": [
        "Importing Dependencies"
      ]
    },
    {
      "cell_type": "code",
      "metadata": {
        "id": "grL-_GZraW9C"
      },
      "source": [
        "import pandas as pd\n",
        "import numpy as np\n",
        "import matplotlib.pyplot as plt\n",
        "import seaborn as sns\n",
        "from sklearn.model_selection import train_test_split\n",
        "from sklearn.linear_model import LinearRegression\n",
        "from sklearn.linear_model import lasso_path\n",
        "from sklearn import metrics\n",
        "%matplotlib inline"
      ],
      "execution_count": 46,
      "outputs": []
    },
    {
      "cell_type": "markdown",
      "metadata": {
        "id": "B5YQWpTJbaq0"
      },
      "source": [
        "Data Collection and Processing"
      ]
    },
    {
      "cell_type": "code",
      "metadata": {
        "id": "Tsh9Ile2bfXA"
      },
      "source": [
        "# loading the data from csv file to pandas dataframe\n",
        "monthly_coffee_prices = pd.read_csv('/content/monthly_coffee_prices.csv')\n"
      ],
      "execution_count": 19,
      "outputs": []
    },
    {
      "cell_type": "code",
      "metadata": {
        "colab": {
          "base_uri": "https://localhost:8080/",
          "height": 204
        },
        "id": "_xxAmDw0cD6g",
        "outputId": "1019b172-692f-4aea-e18b-8114c67da46f"
      },
      "source": [
        "# inspecting the first 5 rows of the dataframe\n",
        "monthly_coffee_prices.head()\n"
      ],
      "execution_count": 22,
      "outputs": [
        {
          "output_type": "execute_result",
          "data": {
            "text/html": [
              "<div>\n",
              "<style scoped>\n",
              "    .dataframe tbody tr th:only-of-type {\n",
              "        vertical-align: middle;\n",
              "    }\n",
              "\n",
              "    .dataframe tbody tr th {\n",
              "        vertical-align: top;\n",
              "    }\n",
              "\n",
              "    .dataframe thead th {\n",
              "        text-align: right;\n",
              "    }\n",
              "</style>\n",
              "<table border=\"1\" class=\"dataframe\">\n",
              "  <thead>\n",
              "    <tr style=\"text-align: right;\">\n",
              "      <th></th>\n",
              "      <th>Index</th>\n",
              "      <th>Month</th>\n",
              "      <th>Grade</th>\n",
              "      <th>Price</th>\n",
              "    </tr>\n",
              "  </thead>\n",
              "  <tbody>\n",
              "    <tr>\n",
              "      <th>0</th>\n",
              "      <td>1</td>\n",
              "      <td>Oct-19</td>\n",
              "      <td>AA</td>\n",
              "      <td>236.98</td>\n",
              "    </tr>\n",
              "    <tr>\n",
              "      <th>1</th>\n",
              "      <td>2</td>\n",
              "      <td>Oct-19</td>\n",
              "      <td>AB</td>\n",
              "      <td>211.06</td>\n",
              "    </tr>\n",
              "    <tr>\n",
              "      <th>2</th>\n",
              "      <td>3</td>\n",
              "      <td>Oct-19</td>\n",
              "      <td>C</td>\n",
              "      <td>168.10</td>\n",
              "    </tr>\n",
              "    <tr>\n",
              "      <th>3</th>\n",
              "      <td>17</td>\n",
              "      <td>Nov-19</td>\n",
              "      <td>AA</td>\n",
              "      <td>267.01</td>\n",
              "    </tr>\n",
              "    <tr>\n",
              "      <th>4</th>\n",
              "      <td>18</td>\n",
              "      <td>Nov-19</td>\n",
              "      <td>AB</td>\n",
              "      <td>231.54</td>\n",
              "    </tr>\n",
              "  </tbody>\n",
              "</table>\n",
              "</div>"
            ],
            "text/plain": [
              "   Index   Month Grade   Price\n",
              "0      1  Oct-19    AA  236.98\n",
              "1      2  Oct-19    AB  211.06\n",
              "2      3  Oct-19     C  168.10\n",
              "3     17  Nov-19    AA  267.01\n",
              "4     18  Nov-19    AB  231.54"
            ]
          },
          "metadata": {
            "tags": []
          },
          "execution_count": 22
        }
      ]
    },
    {
      "cell_type": "code",
      "metadata": {
        "id": "2f0N1gPKgGBH"
      },
      "source": [
        "# Convert Month to datetime object\n",
        "from datetime import datetime\n"
      ],
      "execution_count": 32,
      "outputs": []
    },
    {
      "cell_type": "code",
      "metadata": {
        "id": "2h8uSqOZhBrJ"
      },
      "source": [
        "def convert_to_datetime(month_year):\n",
        "    dt = datetime.strptime(month_year, '%B %Y')\n",
        "    return dt\n"
      ],
      "execution_count": 50,
      "outputs": []
    },
    {
      "cell_type": "code",
      "metadata": {
        "colab": {
          "base_uri": "https://localhost:8080/"
        },
        "id": "-QWr8ohpta9b",
        "outputId": "ff1d7532-3fa7-4097-f433-1d45c6c58943"
      },
      "source": [
        "\n",
        "# checking the number of rows and columns \n",
        "monthly_coffee_prices.shape"
      ],
      "execution_count": 53,
      "outputs": [
        {
          "output_type": "execute_result",
          "data": {
            "text/plain": [
              "(132, 4)"
            ]
          },
          "metadata": {
            "tags": []
          },
          "execution_count": 53
        }
      ]
    },
    {
      "cell_type": "code",
      "metadata": {
        "colab": {
          "base_uri": "https://localhost:8080/"
        },
        "id": "2Ek5_yRHw_qI",
        "outputId": "5c897504-5d6e-4470-fd98-3e4874c5deb3"
      },
      "source": [
        "# getting some information about the dataset\n",
        "monthly_coffee_prices.info()"
      ],
      "execution_count": 54,
      "outputs": [
        {
          "output_type": "stream",
          "text": [
            "<class 'pandas.core.frame.DataFrame'>\n",
            "RangeIndex: 132 entries, 0 to 131\n",
            "Data columns (total 4 columns):\n",
            " #   Column  Non-Null Count  Dtype  \n",
            "---  ------  --------------  -----  \n",
            " 0   Index   132 non-null    int64  \n",
            " 1   Month   132 non-null    object \n",
            " 2   Grade   132 non-null    object \n",
            " 3   Price   132 non-null    float64\n",
            "dtypes: float64(1), int64(1), object(2)\n",
            "memory usage: 4.2+ KB\n"
          ],
          "name": "stdout"
        }
      ]
    },
    {
      "cell_type": "code",
      "metadata": {
        "colab": {
          "base_uri": "https://localhost:8080/"
        },
        "id": "OKUI0Veh1zHf",
        "outputId": "7ebfa107-6467-4e5d-ed67-3fa744f4ff80"
      },
      "source": [
        "# checking the number of missing values\n",
        "monthly_coffee_prices.isnull().sum()"
      ],
      "execution_count": 55,
      "outputs": [
        {
          "output_type": "execute_result",
          "data": {
            "text/plain": [
              "Index    0\n",
              "Month    0\n",
              "Grade    0\n",
              "Price    0\n",
              "dtype: int64"
            ]
          },
          "metadata": {
            "tags": []
          },
          "execution_count": 55
        }
      ]
    },
    {
      "cell_type": "markdown",
      "metadata": {
        "id": "z-E_nTWv6pd0"
      },
      "source": [
        "Encoding the categorical Data"
      ]
    },
    {
      "cell_type": "code",
      "metadata": {
        "id": "EgnvOjXR-NGE"
      },
      "source": [
        "# encoding \"Month\" column\n",
        "monthly_coffee_prices.replace({\"Month\":{'Jan':1,'Feb':2,'mar':3,'Apr':4,'May':5,'Jun':6,'Jul':7,'Aug':8,'Sep':9,'Oct':10,'Nov':11,'Dec':12}},inplace= True)\n",
        "\n",
        "\n",
        "\n",
        "# encoding \"Grade\" column\n",
        "monthly_coffee_prices.replace({\"Grade\":{'AA':0,'AB':1,'C':2}},inplace= True)\n",
        "\n",
        "\n",
        "\n"
      ],
      "execution_count": 108,
      "outputs": []
    },
    {
      "cell_type": "code",
      "metadata": {
        "colab": {
          "base_uri": "https://localhost:8080/",
          "height": 204
        },
        "id": "9SBUtbxSWNVG",
        "outputId": "81efbf6b-7155-41b4-eb76-2943abe5fd43"
      },
      "source": [
        "monthly_coffee_prices.head()"
      ],
      "execution_count": 109,
      "outputs": [
        {
          "output_type": "execute_result",
          "data": {
            "text/html": [
              "<div>\n",
              "<style scoped>\n",
              "    .dataframe tbody tr th:only-of-type {\n",
              "        vertical-align: middle;\n",
              "    }\n",
              "\n",
              "    .dataframe tbody tr th {\n",
              "        vertical-align: top;\n",
              "    }\n",
              "\n",
              "    .dataframe thead th {\n",
              "        text-align: right;\n",
              "    }\n",
              "</style>\n",
              "<table border=\"1\" class=\"dataframe\">\n",
              "  <thead>\n",
              "    <tr style=\"text-align: right;\">\n",
              "      <th></th>\n",
              "      <th>Index</th>\n",
              "      <th>Month</th>\n",
              "      <th>Grade</th>\n",
              "      <th>Price</th>\n",
              "    </tr>\n",
              "  </thead>\n",
              "  <tbody>\n",
              "    <tr>\n",
              "      <th>0</th>\n",
              "      <td>1</td>\n",
              "      <td>Oct-19</td>\n",
              "      <td>0</td>\n",
              "      <td>236.98</td>\n",
              "    </tr>\n",
              "    <tr>\n",
              "      <th>1</th>\n",
              "      <td>2</td>\n",
              "      <td>Oct-19</td>\n",
              "      <td>1</td>\n",
              "      <td>211.06</td>\n",
              "    </tr>\n",
              "    <tr>\n",
              "      <th>2</th>\n",
              "      <td>3</td>\n",
              "      <td>Oct-19</td>\n",
              "      <td>2</td>\n",
              "      <td>168.10</td>\n",
              "    </tr>\n",
              "    <tr>\n",
              "      <th>3</th>\n",
              "      <td>17</td>\n",
              "      <td>Nov-19</td>\n",
              "      <td>0</td>\n",
              "      <td>267.01</td>\n",
              "    </tr>\n",
              "    <tr>\n",
              "      <th>4</th>\n",
              "      <td>18</td>\n",
              "      <td>Nov-19</td>\n",
              "      <td>1</td>\n",
              "      <td>231.54</td>\n",
              "    </tr>\n",
              "  </tbody>\n",
              "</table>\n",
              "</div>"
            ],
            "text/plain": [
              "   Index   Month  Grade   Price\n",
              "0      1  Oct-19      0  236.98\n",
              "1      2  Oct-19      1  211.06\n",
              "2      3  Oct-19      2  168.10\n",
              "3     17  Nov-19      0  267.01\n",
              "4     18  Nov-19      1  231.54"
            ]
          },
          "metadata": {
            "tags": []
          },
          "execution_count": 109
        }
      ]
    },
    {
      "cell_type": "code",
      "metadata": {
        "colab": {
          "base_uri": "https://localhost:8080/",
          "height": 204
        },
        "id": "PPPoamhVW6jV",
        "outputId": "7cdad60f-7154-43d7-cfd7-dd4cf98f400c"
      },
      "source": [
        "monthly_coffee_prices.head()"
      ],
      "execution_count": 110,
      "outputs": [
        {
          "output_type": "execute_result",
          "data": {
            "text/html": [
              "<div>\n",
              "<style scoped>\n",
              "    .dataframe tbody tr th:only-of-type {\n",
              "        vertical-align: middle;\n",
              "    }\n",
              "\n",
              "    .dataframe tbody tr th {\n",
              "        vertical-align: top;\n",
              "    }\n",
              "\n",
              "    .dataframe thead th {\n",
              "        text-align: right;\n",
              "    }\n",
              "</style>\n",
              "<table border=\"1\" class=\"dataframe\">\n",
              "  <thead>\n",
              "    <tr style=\"text-align: right;\">\n",
              "      <th></th>\n",
              "      <th>Index</th>\n",
              "      <th>Month</th>\n",
              "      <th>Grade</th>\n",
              "      <th>Price</th>\n",
              "    </tr>\n",
              "  </thead>\n",
              "  <tbody>\n",
              "    <tr>\n",
              "      <th>0</th>\n",
              "      <td>1</td>\n",
              "      <td>Oct-19</td>\n",
              "      <td>0</td>\n",
              "      <td>236.98</td>\n",
              "    </tr>\n",
              "    <tr>\n",
              "      <th>1</th>\n",
              "      <td>2</td>\n",
              "      <td>Oct-19</td>\n",
              "      <td>1</td>\n",
              "      <td>211.06</td>\n",
              "    </tr>\n",
              "    <tr>\n",
              "      <th>2</th>\n",
              "      <td>3</td>\n",
              "      <td>Oct-19</td>\n",
              "      <td>2</td>\n",
              "      <td>168.10</td>\n",
              "    </tr>\n",
              "    <tr>\n",
              "      <th>3</th>\n",
              "      <td>17</td>\n",
              "      <td>Nov-19</td>\n",
              "      <td>0</td>\n",
              "      <td>267.01</td>\n",
              "    </tr>\n",
              "    <tr>\n",
              "      <th>4</th>\n",
              "      <td>18</td>\n",
              "      <td>Nov-19</td>\n",
              "      <td>1</td>\n",
              "      <td>231.54</td>\n",
              "    </tr>\n",
              "  </tbody>\n",
              "</table>\n",
              "</div>"
            ],
            "text/plain": [
              "   Index   Month  Grade   Price\n",
              "0      1  Oct-19      0  236.98\n",
              "1      2  Oct-19      1  211.06\n",
              "2      3  Oct-19      2  168.10\n",
              "3     17  Nov-19      0  267.01\n",
              "4     18  Nov-19      1  231.54"
            ]
          },
          "metadata": {
            "tags": []
          },
          "execution_count": 110
        }
      ]
    },
    {
      "cell_type": "markdown",
      "metadata": {
        "id": "NIJ6klaxZGWl"
      },
      "source": [
        "Splitting the Data and Target"
      ]
    },
    {
      "cell_type": "code",
      "metadata": {
        "id": "yP70gOkNZdil"
      },
      "source": [
        ""
      ],
      "execution_count": null,
      "outputs": []
    }
  ]
}