{
  "nbformat": 4,
  "nbformat_minor": 0,
  "metadata": {
    "colab": {
      "name": "Partey.ipynb",
      "provenance": [],
      "authorship_tag": "ABX9TyNE21KAoklYBusChcMODMef",
      "include_colab_link": true
    },
    "kernelspec": {
      "name": "python3",
      "display_name": "Python 3"
    },
    "language_info": {
      "name": "python"
    }
  },
  "cells": [
    {
      "cell_type": "markdown",
      "metadata": {
        "id": "view-in-github",
        "colab_type": "text"
      },
      "source": [
        "<a href=\"https://colab.research.google.com/github/suarezthura1/Githubtesting/blob/main/Partey.ipynb\" target=\"_parent\"><img src=\"https://colab.research.google.com/assets/colab-badge.svg\" alt=\"Open In Colab\"/></a>"
      ]
    },
    {
      "cell_type": "markdown",
      "metadata": {
        "id": "8IEHBoO_vxla"
      },
      "source": [
        "Importing Dependencies"
      ]
    },
    {
      "cell_type": "code",
      "metadata": {
        "id": "5oIfXi1Jp_yS"
      },
      "source": [
        "import pandas as pd\n",
        "import re\n",
        "import matplotlib.pyplot as plt\n",
        "import seaborn as sns\n",
        "from sklearn.model_selection import train_test_split\n",
        "from sklearn.linear_model import LinearRegression\n",
        "from sklearn.linear_model import lasso_path\n",
        "from sklearn import metrics"
      ],
      "execution_count": 50,
      "outputs": []
    },
    {
      "cell_type": "markdown",
      "metadata": {
        "id": "WMmyjLJTyDLu"
      },
      "source": [
        "Data Collection and processing"
      ]
    },
    {
      "cell_type": "code",
      "metadata": {
        "id": "yg7sEqu2yLAH"
      },
      "source": [
        "# loading the data from csv file to pandas dataframe\n",
        "coffee_data = pd.read_csv('/content/Coffee_data.csv')\n"
      ],
      "execution_count": 7,
      "outputs": []
    },
    {
      "cell_type": "code",
      "metadata": {
        "colab": {
          "base_uri": "https://localhost:8080/",
          "height": 306
        },
        "id": "SaQfSaSk02p_",
        "outputId": "e7338243-041a-40f9-9f7f-44170480cb60"
      },
      "source": [
        "# inspecting the first 5 rows of the dataframe\n",
        "coffee_data.head()"
      ],
      "execution_count": 8,
      "outputs": [
        {
          "output_type": "execute_result",
          "data": {
            "text/html": [
              "<div>\n",
              "<style scoped>\n",
              "    .dataframe tbody tr th:only-of-type {\n",
              "        vertical-align: middle;\n",
              "    }\n",
              "\n",
              "    .dataframe tbody tr th {\n",
              "        vertical-align: top;\n",
              "    }\n",
              "\n",
              "    .dataframe thead th {\n",
              "        text-align: right;\n",
              "    }\n",
              "</style>\n",
              "<table border=\"1\" class=\"dataframe\">\n",
              "  <thead>\n",
              "    <tr style=\"text-align: right;\">\n",
              "      <th></th>\n",
              "      <th>ORDER OF YEARS</th>\n",
              "      <th>GRADE AA average price (usd) per 50kg</th>\n",
              "      <th>Grade AB average price (usd) per 50kg</th>\n",
              "      <th>Grade C average price(usd) per 50kg</th>\n",
              "      <th>Grade E average price (usd) per 50kg</th>\n",
              "      <th>Grade MH average price (usd) per 50kg</th>\n",
              "      <th>Grade ML average price(usd) per 50kg</th>\n",
              "      <th>Grade PB average price(USD) per 50 kg</th>\n",
              "      <th>Grade T average price(USD) per 50 kg</th>\n",
              "      <th>Grade TT average price(USD) per 50kg</th>\n",
              "      <th>Grade UG average price(USD) per 50kg</th>\n",
              "      <th>Grade UG1 average price(USD) per 50kg</th>\n",
              "      <th>Grade UG2 average price(USD) per 50 kg</th>\n",
              "      <th>Grade UG3 average price(USD) per 50 kg</th>\n",
              "    </tr>\n",
              "  </thead>\n",
              "  <tbody>\n",
              "    <tr>\n",
              "      <th>0</th>\n",
              "      <td>2021</td>\n",
              "      <td>349.8</td>\n",
              "      <td>298.8</td>\n",
              "      <td>240.8</td>\n",
              "      <td>287.23</td>\n",
              "      <td>105.5</td>\n",
              "      <td>71.0</td>\n",
              "      <td>276.3</td>\n",
              "      <td>115.2</td>\n",
              "      <td>223.2</td>\n",
              "      <td>177.4</td>\n",
              "      <td>179.0</td>\n",
              "      <td>88.7</td>\n",
              "      <td>59.9</td>\n",
              "    </tr>\n",
              "    <tr>\n",
              "      <th>1</th>\n",
              "      <td>2020</td>\n",
              "      <td>382.2</td>\n",
              "      <td>315.9</td>\n",
              "      <td>254.9</td>\n",
              "      <td>294.82</td>\n",
              "      <td>111.7</td>\n",
              "      <td>76.0</td>\n",
              "      <td>288.9</td>\n",
              "      <td>127.5</td>\n",
              "      <td>230.3</td>\n",
              "      <td>166.3</td>\n",
              "      <td>186.3</td>\n",
              "      <td>113.3</td>\n",
              "      <td>88.3</td>\n",
              "    </tr>\n",
              "    <tr>\n",
              "      <th>2</th>\n",
              "      <td>2019</td>\n",
              "      <td>336.6</td>\n",
              "      <td>276.4</td>\n",
              "      <td>227.5</td>\n",
              "      <td>287.15</td>\n",
              "      <td>106.2</td>\n",
              "      <td>73.1</td>\n",
              "      <td>251.7</td>\n",
              "      <td>101.7</td>\n",
              "      <td>198.4</td>\n",
              "      <td>127.0</td>\n",
              "      <td>154.3</td>\n",
              "      <td>95.7</td>\n",
              "      <td>134.2</td>\n",
              "    </tr>\n",
              "    <tr>\n",
              "      <th>3</th>\n",
              "      <td>2018</td>\n",
              "      <td>272.6</td>\n",
              "      <td>211.0</td>\n",
              "      <td>157.3</td>\n",
              "      <td>276.38</td>\n",
              "      <td>98.7</td>\n",
              "      <td>67.6</td>\n",
              "      <td>235.4</td>\n",
              "      <td>100.8</td>\n",
              "      <td>164.8</td>\n",
              "      <td>84.8</td>\n",
              "      <td>148.7</td>\n",
              "      <td>110.6</td>\n",
              "      <td>43.1</td>\n",
              "    </tr>\n",
              "    <tr>\n",
              "      <th>4</th>\n",
              "      <td>2017</td>\n",
              "      <td>286.3</td>\n",
              "      <td>222.7</td>\n",
              "      <td>175.6</td>\n",
              "      <td>266.91</td>\n",
              "      <td>97.8</td>\n",
              "      <td>66.9</td>\n",
              "      <td>234.5</td>\n",
              "      <td>80.7</td>\n",
              "      <td>176.9</td>\n",
              "      <td>121.6</td>\n",
              "      <td>148.9</td>\n",
              "      <td>92.6</td>\n",
              "      <td>80.8</td>\n",
              "    </tr>\n",
              "  </tbody>\n",
              "</table>\n",
              "</div>"
            ],
            "text/plain": [
              "   ORDER OF YEARS  ...  Grade UG3 average price(USD) per 50 kg\n",
              "0            2021  ...                                    59.9\n",
              "1            2020  ...                                    88.3\n",
              "2            2019  ...                                   134.2\n",
              "3            2018  ...                                    43.1\n",
              "4            2017  ...                                    80.8\n",
              "\n",
              "[5 rows x 14 columns]"
            ]
          },
          "metadata": {
            "tags": []
          },
          "execution_count": 8
        }
      ]
    },
    {
      "cell_type": "code",
      "metadata": {
        "colab": {
          "base_uri": "https://localhost:8080/"
        },
        "id": "KA78gkDu2e_1",
        "outputId": "8156e1d2-c363-46ff-b1fa-8da69d51bafe"
      },
      "source": [
        "# checking the number of rows and columns \n",
        "coffee_data.shape"
      ],
      "execution_count": 9,
      "outputs": [
        {
          "output_type": "execute_result",
          "data": {
            "text/plain": [
              "(60, 14)"
            ]
          },
          "metadata": {
            "tags": []
          },
          "execution_count": 9
        }
      ]
    },
    {
      "cell_type": "code",
      "metadata": {
        "colab": {
          "base_uri": "https://localhost:8080/"
        },
        "id": "xC7dSKQ-3f6E",
        "outputId": "68a5534b-e808-4c46-ecf5-feecb3a9d4d7"
      },
      "source": [
        "# getting some information about the dataset\n",
        "coffee_data.info()"
      ],
      "execution_count": 10,
      "outputs": [
        {
          "output_type": "stream",
          "text": [
            "<class 'pandas.core.frame.DataFrame'>\n",
            "RangeIndex: 60 entries, 0 to 59\n",
            "Data columns (total 14 columns):\n",
            " #   Column                                  Non-Null Count  Dtype  \n",
            "---  ------                                  --------------  -----  \n",
            " 0   ORDER OF YEARS                          60 non-null     int64  \n",
            " 1   GRADE AA average price (usd) per 50kg   60 non-null     float64\n",
            " 2   Grade AB average price (usd) per 50kg   60 non-null     float64\n",
            " 3   Grade C average price(usd) per 50kg     60 non-null     object \n",
            " 4   Grade E average price (usd) per 50kg    60 non-null     float64\n",
            " 5   Grade MH average price (usd) per 50kg   60 non-null     float64\n",
            " 6   Grade ML average price(usd) per 50kg    60 non-null     float64\n",
            " 7   Grade PB average price(USD) per 50 kg   60 non-null     object \n",
            " 8   Grade T average price(USD) per 50 kg    60 non-null     float64\n",
            " 9   Grade TT average price(USD) per 50kg    60 non-null     float64\n",
            " 10  Grade UG average price(USD) per 50kg    60 non-null     float64\n",
            " 11  Grade UG1 average price(USD) per 50kg   60 non-null     float64\n",
            " 12  Grade UG2 average price(USD) per 50 kg  60 non-null     float64\n",
            " 13  Grade UG3 average price(USD) per 50 kg  60 non-null     float64\n",
            "dtypes: float64(11), int64(1), object(2)\n",
            "memory usage: 6.7+ KB\n"
          ],
          "name": "stdout"
        }
      ]
    },
    {
      "cell_type": "code",
      "metadata": {
        "colab": {
          "base_uri": "https://localhost:8080/"
        },
        "id": "flO1qUQ34Ox3",
        "outputId": "97a93ed1-7219-4b59-8db0-1997ecb01bbd"
      },
      "source": [
        "# checking the number of missing values\n",
        "coffee_data.isnull().sum()"
      ],
      "execution_count": 11,
      "outputs": [
        {
          "output_type": "execute_result",
          "data": {
            "text/plain": [
              "ORDER OF YEARS                            0\n",
              "GRADE AA average price (usd) per 50kg     0\n",
              "Grade AB average price (usd) per 50kg     0\n",
              "Grade C average price(usd) per 50kg       0\n",
              "Grade E average price (usd) per 50kg      0\n",
              "Grade MH average price (usd) per 50kg     0\n",
              "Grade ML average price(usd) per 50kg      0\n",
              "Grade PB average price(USD) per 50 kg     0\n",
              "Grade T average price(USD) per 50 kg      0\n",
              "Grade TT average price(USD) per 50kg      0\n",
              "Grade UG average price(USD) per 50kg      0\n",
              "Grade UG1 average price(USD) per 50kg     0\n",
              "Grade UG2 average price(USD) per 50 kg    0\n",
              "Grade UG3 average price(USD) per 50 kg    0\n",
              "dtype: int64"
            ]
          },
          "metadata": {
            "tags": []
          },
          "execution_count": 11
        }
      ]
    },
    {
      "cell_type": "markdown",
      "metadata": {
        "id": "9BWXd-7xE-Oe"
      },
      "source": [
        "Splitting the data and Target"
      ]
    },
    {
      "cell_type": "code",
      "metadata": {
        "id": "qgdCZ-a9FEBJ"
      },
      "source": [
        "y = coffee_data['GRADE AA average price (usd) per 50kg']\n",
        "x = coffee_data.drop(['GRADE AA average price (usd) per 50kg'],axis=1)"
      ],
      "execution_count": 30,
      "outputs": []
    },
    {
      "cell_type": "code",
      "metadata": {
        "colab": {
          "base_uri": "https://localhost:8080/"
        },
        "id": "ctEDKkT2lcLI",
        "outputId": "dfe6b728-81f8-49de-816b-bbd7b28b4c59"
      },
      "source": [
        "print(x)"
      ],
      "execution_count": 31,
      "outputs": [
        {
          "output_type": "stream",
          "text": [
            "    ORDER OF YEARS  ...  Grade UG3 average price(USD) per 50 kg\n",
            "0             2021  ...                                    59.9\n",
            "1             2020  ...                                    88.3\n",
            "2             2019  ...                                   134.2\n",
            "3             2018  ...                                    43.1\n",
            "4             2017  ...                                    80.8\n",
            "5             2016  ...                                    79.6\n",
            "6             2015  ...                                    81.7\n",
            "7             2014  ...                                    23.1\n",
            "8             2013  ...                                    75.0\n",
            "9             2012  ...                                    69.9\n",
            "10            2011  ...                                    56.8\n",
            "11            2010  ...                                    75.8\n",
            "12            2009  ...                                    49.0\n",
            "13            2008  ...                                    66.0\n",
            "14            2007  ...                                    42.0\n",
            "15            2006  ...                                    43.6\n",
            "16            2005  ...                                    39.1\n",
            "17            2004  ...                                    52.6\n",
            "18            2003  ...                                    45.0\n",
            "19            2002  ...                                    66.8\n",
            "20            2001  ...                                   107.5\n",
            "21            2000  ...                                    56.8\n",
            "22            1999  ...                                    83.5\n",
            "23            1998  ...                                    77.0\n",
            "24            1997  ...                                    80.0\n",
            "25            1996  ...                                    79.9\n",
            "26            1995  ...                                    98.7\n",
            "27            1994  ...                                    71.0\n",
            "28            1993  ...                                    78.2\n",
            "29            1992  ...                                    79.6\n",
            "30            1991  ...                                    82.9\n",
            "31            1990  ...                                    68.9\n",
            "32            1989  ...                                    75.0\n",
            "33            1988  ...                                    79.6\n",
            "34            1987  ...                                    89.0\n",
            "35            1986  ...                                    46.0\n",
            "36            1985  ...                                    72.7\n",
            "37            1984  ...                                    79.3\n",
            "38            1983  ...                                   134.2\n",
            "39            1982  ...                                    98.8\n",
            "40            1981  ...                                    87.7\n",
            "41            1980  ...                                    69.0\n",
            "42            1979  ...                                    71.8\n",
            "43            1978  ...                                    69.1\n",
            "44            1977  ...                                    75.8\n",
            "45            1976  ...                                    76.8\n",
            "46            1975  ...                                    80.8\n",
            "47            1974  ...                                    75.8\n",
            "48            1973  ...                                    84.9\n",
            "49            1972  ...                                    88.3\n",
            "50            1971  ...                                    87.7\n",
            "51            1970  ...                                    79.7\n",
            "52            1969  ...                                    76.7\n",
            "53            1968  ...                                    79.6\n",
            "54            1967  ...                                    82.3\n",
            "55            1966  ...                                    90.2\n",
            "56            1965  ...                                    81.9\n",
            "57            1964  ...                                    69.9\n",
            "58            1963  ...                                    73.5\n",
            "59            1962  ...                                    78.2\n",
            "\n",
            "[60 rows x 13 columns]\n"
          ],
          "name": "stdout"
        }
      ]
    },
    {
      "cell_type": "code",
      "metadata": {
        "colab": {
          "base_uri": "https://localhost:8080/"
        },
        "id": "ZjpRYOrRnOJG",
        "outputId": "2b3ecd01-d8ef-4633-f2bb-c080689c18e1"
      },
      "source": [
        "print(y)"
      ],
      "execution_count": 32,
      "outputs": [
        {
          "output_type": "stream",
          "text": [
            "0     349.8\n",
            "1     382.2\n",
            "2     336.6\n",
            "3     272.6\n",
            "4     286.3\n",
            "5     191.9\n",
            "6     297.0\n",
            "7     331.8\n",
            "8     228.2\n",
            "9     235.8\n",
            "10    279.1\n",
            "11    295.8\n",
            "12    297.8\n",
            "13    297.3\n",
            "14    265.9\n",
            "15    221.9\n",
            "16    217.8\n",
            "17    220.2\n",
            "18    206.8\n",
            "19    253.7\n",
            "20    255.7\n",
            "21    279.1\n",
            "22    292.5\n",
            "23    289.4\n",
            "24    291.3\n",
            "25    335.9\n",
            "26    269.1\n",
            "27    238.4\n",
            "28    229.3\n",
            "29    191.9\n",
            "30    220.2\n",
            "31    229.2\n",
            "32    228.2\n",
            "33    237.0\n",
            "34    267.0\n",
            "35    300.7\n",
            "36    255.0\n",
            "37    352.8\n",
            "38    364.7\n",
            "39    323.2\n",
            "40    314.4\n",
            "41    306.0\n",
            "42    303.1\n",
            "43    304.4\n",
            "44    300.1\n",
            "45    310.7\n",
            "46    300.5\n",
            "47    295.8\n",
            "48    299.6\n",
            "49    285.4\n",
            "50    309.6\n",
            "51    289.4\n",
            "52    215.5\n",
            "53    191.9\n",
            "54    253.0\n",
            "55    267.3\n",
            "56    268.5\n",
            "57    235.8\n",
            "58    258.3\n",
            "59    265.3\n",
            "Name: GRADE AA average price (usd) per 50kg, dtype: float64\n"
          ],
          "name": "stdout"
        }
      ]
    },
    {
      "cell_type": "markdown",
      "metadata": {
        "id": "_UhA2ZgGpEMS"
      },
      "source": [
        "Splitting Training and Test data"
      ]
    },
    {
      "cell_type": "code",
      "metadata": {
        "id": "LidFKkvvpXGT"
      },
      "source": [
        "x_train, x_test, y_train, y_test = train_test_split(x, y, test_size = 0.1, random_state=2)"
      ],
      "execution_count": 33,
      "outputs": []
    },
    {
      "cell_type": "markdown",
      "metadata": {
        "id": "MSsxRNaxrTBx"
      },
      "source": [
        "Model Training\n",
        "    1. Linear Regression"
      ]
    },
    {
      "cell_type": "code",
      "metadata": {
        "id": "25As0Yd8rzvA"
      },
      "source": [
        "# loading the linear regression model\n",
        "lin_reg_model = LinearRegression()"
      ],
      "execution_count": 35,
      "outputs": []
    },
    {
      "cell_type": "code",
      "metadata": {
        "colab": {
          "base_uri": "https://localhost:8080/",
          "height": 306
        },
        "id": "kljIJMSGs7B-",
        "outputId": "ced0836c-3047-4a09-d824-c4797e2c4259"
      },
      "source": [
        "lin_reg_model.fit( x_train,y_train)"
      ],
      "execution_count": 55,
      "outputs": [
        {
          "output_type": "error",
          "ename": "ValueError",
          "evalue": "ignored",
          "traceback": [
            "\u001b[0;31m---------------------------------------------------------------------------\u001b[0m",
            "\u001b[0;31mValueError\u001b[0m                                Traceback (most recent call last)",
            "\u001b[0;32m<ipython-input-55-f575ffdef76c>\u001b[0m in \u001b[0;36m<module>\u001b[0;34m()\u001b[0m\n\u001b[0;32m----> 1\u001b[0;31m \u001b[0mlin_reg_model\u001b[0m\u001b[0;34m.\u001b[0m\u001b[0mfit\u001b[0m\u001b[0;34m(\u001b[0m \u001b[0mx_train\u001b[0m\u001b[0;34m,\u001b[0m\u001b[0my_train\u001b[0m\u001b[0;34m)\u001b[0m\u001b[0;34m\u001b[0m\u001b[0;34m\u001b[0m\u001b[0m\n\u001b[0m",
            "\u001b[0;32m/usr/local/lib/python3.7/dist-packages/sklearn/linear_model/_base.py\u001b[0m in \u001b[0;36mfit\u001b[0;34m(self, X, y, sample_weight)\u001b[0m\n\u001b[1;32m    490\u001b[0m         \u001b[0mn_jobs_\u001b[0m \u001b[0;34m=\u001b[0m \u001b[0mself\u001b[0m\u001b[0;34m.\u001b[0m\u001b[0mn_jobs\u001b[0m\u001b[0;34m\u001b[0m\u001b[0;34m\u001b[0m\u001b[0m\n\u001b[1;32m    491\u001b[0m         X, y = check_X_y(X, y, accept_sparse=['csr', 'csc', 'coo'],\n\u001b[0;32m--> 492\u001b[0;31m                          y_numeric=True, multi_output=True)\n\u001b[0m\u001b[1;32m    493\u001b[0m \u001b[0;34m\u001b[0m\u001b[0m\n\u001b[1;32m    494\u001b[0m         \u001b[0;32mif\u001b[0m \u001b[0msample_weight\u001b[0m \u001b[0;32mis\u001b[0m \u001b[0;32mnot\u001b[0m \u001b[0;32mNone\u001b[0m\u001b[0;34m:\u001b[0m\u001b[0;34m\u001b[0m\u001b[0;34m\u001b[0m\u001b[0m\n",
            "\u001b[0;32m/usr/local/lib/python3.7/dist-packages/sklearn/utils/validation.py\u001b[0m in \u001b[0;36mcheck_X_y\u001b[0;34m(X, y, accept_sparse, accept_large_sparse, dtype, order, copy, force_all_finite, ensure_2d, allow_nd, multi_output, ensure_min_samples, ensure_min_features, y_numeric, warn_on_dtype, estimator)\u001b[0m\n\u001b[1;32m    753\u001b[0m                     \u001b[0mensure_min_features\u001b[0m\u001b[0;34m=\u001b[0m\u001b[0mensure_min_features\u001b[0m\u001b[0;34m,\u001b[0m\u001b[0;34m\u001b[0m\u001b[0;34m\u001b[0m\u001b[0m\n\u001b[1;32m    754\u001b[0m                     \u001b[0mwarn_on_dtype\u001b[0m\u001b[0;34m=\u001b[0m\u001b[0mwarn_on_dtype\u001b[0m\u001b[0;34m,\u001b[0m\u001b[0;34m\u001b[0m\u001b[0;34m\u001b[0m\u001b[0m\n\u001b[0;32m--> 755\u001b[0;31m                     estimator=estimator)\n\u001b[0m\u001b[1;32m    756\u001b[0m     \u001b[0;32mif\u001b[0m \u001b[0mmulti_output\u001b[0m\u001b[0;34m:\u001b[0m\u001b[0;34m\u001b[0m\u001b[0;34m\u001b[0m\u001b[0m\n\u001b[1;32m    757\u001b[0m         y = check_array(y, 'csr', force_all_finite=True, ensure_2d=False,\n",
            "\u001b[0;32m/usr/local/lib/python3.7/dist-packages/sklearn/utils/validation.py\u001b[0m in \u001b[0;36mcheck_array\u001b[0;34m(array, accept_sparse, accept_large_sparse, dtype, order, copy, force_all_finite, ensure_2d, allow_nd, ensure_min_samples, ensure_min_features, warn_on_dtype, estimator)\u001b[0m\n\u001b[1;32m    529\u001b[0m                     \u001b[0marray\u001b[0m \u001b[0;34m=\u001b[0m \u001b[0marray\u001b[0m\u001b[0;34m.\u001b[0m\u001b[0mastype\u001b[0m\u001b[0;34m(\u001b[0m\u001b[0mdtype\u001b[0m\u001b[0;34m,\u001b[0m \u001b[0mcasting\u001b[0m\u001b[0;34m=\u001b[0m\u001b[0;34m\"unsafe\"\u001b[0m\u001b[0;34m,\u001b[0m \u001b[0mcopy\u001b[0m\u001b[0;34m=\u001b[0m\u001b[0;32mFalse\u001b[0m\u001b[0;34m)\u001b[0m\u001b[0;34m\u001b[0m\u001b[0;34m\u001b[0m\u001b[0m\n\u001b[1;32m    530\u001b[0m                 \u001b[0;32melse\u001b[0m\u001b[0;34m:\u001b[0m\u001b[0;34m\u001b[0m\u001b[0;34m\u001b[0m\u001b[0m\n\u001b[0;32m--> 531\u001b[0;31m                     \u001b[0marray\u001b[0m \u001b[0;34m=\u001b[0m \u001b[0mnp\u001b[0m\u001b[0;34m.\u001b[0m\u001b[0masarray\u001b[0m\u001b[0;34m(\u001b[0m\u001b[0marray\u001b[0m\u001b[0;34m,\u001b[0m \u001b[0morder\u001b[0m\u001b[0;34m=\u001b[0m\u001b[0morder\u001b[0m\u001b[0;34m,\u001b[0m \u001b[0mdtype\u001b[0m\u001b[0;34m=\u001b[0m\u001b[0mdtype\u001b[0m\u001b[0;34m)\u001b[0m\u001b[0;34m\u001b[0m\u001b[0;34m\u001b[0m\u001b[0m\n\u001b[0m\u001b[1;32m    532\u001b[0m             \u001b[0;32mexcept\u001b[0m \u001b[0mComplexWarning\u001b[0m\u001b[0;34m:\u001b[0m\u001b[0;34m\u001b[0m\u001b[0;34m\u001b[0m\u001b[0m\n\u001b[1;32m    533\u001b[0m                 raise ValueError(\"Complex data not supported\\n\"\n",
            "\u001b[0;32m/usr/local/lib/python3.7/dist-packages/numpy/core/_asarray.py\u001b[0m in \u001b[0;36masarray\u001b[0;34m(a, dtype, order)\u001b[0m\n\u001b[1;32m     81\u001b[0m \u001b[0;34m\u001b[0m\u001b[0m\n\u001b[1;32m     82\u001b[0m     \"\"\"\n\u001b[0;32m---> 83\u001b[0;31m     \u001b[0;32mreturn\u001b[0m \u001b[0marray\u001b[0m\u001b[0;34m(\u001b[0m\u001b[0ma\u001b[0m\u001b[0;34m,\u001b[0m \u001b[0mdtype\u001b[0m\u001b[0;34m,\u001b[0m \u001b[0mcopy\u001b[0m\u001b[0;34m=\u001b[0m\u001b[0;32mFalse\u001b[0m\u001b[0;34m,\u001b[0m \u001b[0morder\u001b[0m\u001b[0;34m=\u001b[0m\u001b[0morder\u001b[0m\u001b[0;34m)\u001b[0m\u001b[0;34m\u001b[0m\u001b[0;34m\u001b[0m\u001b[0m\n\u001b[0m\u001b[1;32m     84\u001b[0m \u001b[0;34m\u001b[0m\u001b[0m\n\u001b[1;32m     85\u001b[0m \u001b[0;34m\u001b[0m\u001b[0m\n",
            "\u001b[0;32m/usr/local/lib/python3.7/dist-packages/pandas/core/generic.py\u001b[0m in \u001b[0;36m__array__\u001b[0;34m(self, dtype)\u001b[0m\n\u001b[1;32m   1779\u001b[0m \u001b[0;34m\u001b[0m\u001b[0m\n\u001b[1;32m   1780\u001b[0m     \u001b[0;32mdef\u001b[0m \u001b[0m__array__\u001b[0m\u001b[0;34m(\u001b[0m\u001b[0mself\u001b[0m\u001b[0;34m,\u001b[0m \u001b[0mdtype\u001b[0m\u001b[0;34m=\u001b[0m\u001b[0;32mNone\u001b[0m\u001b[0;34m)\u001b[0m \u001b[0;34m->\u001b[0m \u001b[0mnp\u001b[0m\u001b[0;34m.\u001b[0m\u001b[0mndarray\u001b[0m\u001b[0;34m:\u001b[0m\u001b[0;34m\u001b[0m\u001b[0;34m\u001b[0m\u001b[0m\n\u001b[0;32m-> 1781\u001b[0;31m         \u001b[0;32mreturn\u001b[0m \u001b[0mnp\u001b[0m\u001b[0;34m.\u001b[0m\u001b[0masarray\u001b[0m\u001b[0;34m(\u001b[0m\u001b[0mself\u001b[0m\u001b[0;34m.\u001b[0m\u001b[0m_values\u001b[0m\u001b[0;34m,\u001b[0m \u001b[0mdtype\u001b[0m\u001b[0;34m=\u001b[0m\u001b[0mdtype\u001b[0m\u001b[0;34m)\u001b[0m\u001b[0;34m\u001b[0m\u001b[0;34m\u001b[0m\u001b[0m\n\u001b[0m\u001b[1;32m   1782\u001b[0m \u001b[0;34m\u001b[0m\u001b[0m\n\u001b[1;32m   1783\u001b[0m     \u001b[0;32mdef\u001b[0m \u001b[0m__array_wrap__\u001b[0m\u001b[0;34m(\u001b[0m\u001b[0mself\u001b[0m\u001b[0;34m,\u001b[0m \u001b[0mresult\u001b[0m\u001b[0;34m,\u001b[0m \u001b[0mcontext\u001b[0m\u001b[0;34m=\u001b[0m\u001b[0;32mNone\u001b[0m\u001b[0;34m)\u001b[0m\u001b[0;34m:\u001b[0m\u001b[0;34m\u001b[0m\u001b[0;34m\u001b[0m\u001b[0m\n",
            "\u001b[0;32m/usr/local/lib/python3.7/dist-packages/numpy/core/_asarray.py\u001b[0m in \u001b[0;36masarray\u001b[0;34m(a, dtype, order)\u001b[0m\n\u001b[1;32m     81\u001b[0m \u001b[0;34m\u001b[0m\u001b[0m\n\u001b[1;32m     82\u001b[0m     \"\"\"\n\u001b[0;32m---> 83\u001b[0;31m     \u001b[0;32mreturn\u001b[0m \u001b[0marray\u001b[0m\u001b[0;34m(\u001b[0m\u001b[0ma\u001b[0m\u001b[0;34m,\u001b[0m \u001b[0mdtype\u001b[0m\u001b[0;34m,\u001b[0m \u001b[0mcopy\u001b[0m\u001b[0;34m=\u001b[0m\u001b[0;32mFalse\u001b[0m\u001b[0;34m,\u001b[0m \u001b[0morder\u001b[0m\u001b[0;34m=\u001b[0m\u001b[0morder\u001b[0m\u001b[0;34m)\u001b[0m\u001b[0;34m\u001b[0m\u001b[0;34m\u001b[0m\u001b[0m\n\u001b[0m\u001b[1;32m     84\u001b[0m \u001b[0;34m\u001b[0m\u001b[0m\n\u001b[1;32m     85\u001b[0m \u001b[0;34m\u001b[0m\u001b[0m\n",
            "\u001b[0;31mValueError\u001b[0m: could not convert string to float: '2,225.00'"
          ]
        }
      ]
    },
    {
      "cell_type": "code",
      "metadata": {
        "id": "DbMQFOY3uEdz"
      },
      "source": [
        "   "
      ],
      "execution_count": null,
      "outputs": []
    }
  ]
}